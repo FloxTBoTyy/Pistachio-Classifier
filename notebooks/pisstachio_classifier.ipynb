{
 "cells": [
  {
   "cell_type": "code",
   "execution_count": 14,
   "id": "f1fd03e0",
   "metadata": {},
   "outputs": [],
   "source": [
    "import cv2\n",
    "import numpy as np\n",
    "\n",
    "image_path = \"Pistachio_Image_Dataset/Kirmizi_Pistachio/kirmizi (1).jpg\"\n",
    "\n",
    "def load_image(image_path):\n",
    "\n",
    "    \"\"\"Carga una imagen y la prepara para extracción de características\"\"\"\n",
    "    # Cargar imagen\n",
    "    img = cv2.imread(str(image_path))\n",
    "\n",
    "    # Convertir a RGB\n",
    "    img_rgb = cv2.cvtColor(img, cv2.COLOR_BGR2RGB)\n",
    "\n",
    "    # Convertir a escala de grises\n",
    "    img_gray = cv2.cvtColor(img_rgb, cv2.COLOR_RGB2GRAY)\n",
    "\n",
    "    return img_rgb, img_gray\n",
    "\n",
    "img_rgb, img_gray = load_image(image_path)"
   ]
  },
  {
   "cell_type": "code",
   "execution_count": 15,
   "id": "428b9a7d",
   "metadata": {},
   "outputs": [
    {
     "name": "stdout",
     "output_type": "stream",
     "text": [
      "(600, 600, 3)\n",
      "(600, 600)\n"
     ]
    }
   ],
   "source": [
    "print(img_rgb.shape)\n",
    "print(img_gray.shape)"
   ]
  },
  {
   "cell_type": "code",
   "execution_count": 16,
   "id": "34b773e9",
   "metadata": {},
   "outputs": [],
   "source": [
    "def segment_pistachio(img_gray):\n",
    "    \"\"\"Segmenta el pistacho del fondo negro\"\"\"\n",
    "    # Threshold para separar objeto del fondo negro\n",
    "    _, binary = cv2.threshold(img_gray,50,255,cv2.THRESH_BINARY)\n",
    "\n",
    "    # Limpiar ruido\n",
    "    kernel = np.ones((3,3), np.uint8)\n",
    "    binary = cv2.morphologyEx(binary, cv2.MORPH_CLOSE, kernel)\n",
    "    binary = cv2.morphologyEx(binary, cv2.MORPH_OPEN, kernel)\n",
    "\n",
    "    return binary"
   ]
  },
  {
   "cell_type": "code",
   "execution_count": 21,
   "id": "0e3da40c",
   "metadata": {},
   "outputs": [
    {
     "data": {
      "text/plain": [
       "array([[0, 0, 0, ..., 0, 0, 0],\n",
       "       [0, 0, 0, ..., 0, 0, 0],\n",
       "       [0, 0, 0, ..., 0, 0, 0],\n",
       "       ...,\n",
       "       [0, 0, 0, ..., 0, 0, 0],\n",
       "       [0, 0, 0, ..., 0, 0, 0],\n",
       "       [0, 0, 0, ..., 0, 0, 0]], shape=(600, 600), dtype=uint8)"
      ]
     },
     "execution_count": 21,
     "metadata": {},
     "output_type": "execute_result"
    }
   ],
   "source": [
    "binary = segment_pistachio(img_gray)\n",
    "binary"
   ]
  },
  {
   "cell_type": "code",
   "execution_count": 22,
   "id": "405f7a23",
   "metadata": {},
   "outputs": [
    {
     "data": {
      "text/plain": [
       "<matplotlib.image.AxesImage at 0x78c9ed5a4e00>"
      ]
     },
     "execution_count": 22,
     "metadata": {},
     "output_type": "execute_result"
    },
    {
     "data": {
      "image/png": "[encoded data removed]",
      "text/plain": [
       "<Figure size 640x480 with 1 Axes>"
      ]
     },
     "metadata": {},
     "output_type": "display_data"
    }
   ],
   "source": [
    "import matplotlib.pyplot as plt\n",
    "\n",
    "plt.imshow(binary, cmap= 'gray')"
   ]
  },
  {
   "cell_type": "code",
   "execution_count": 33,
   "id": "30fc8f2c",
   "metadata": {},
   "outputs": [],
   "source": [
    "def extract_area(binary_img):\n",
    "    \"\"\"Extrae el área del objeto en píxeles\"\"\"\n",
    "\n",
    "    return np.sum(binary_img == 255)"
   ]
  },
  {
   "cell_type": "code",
   "execution_count": 24,
   "id": "51adc304",
   "metadata": {},
   "outputs": [
    {
     "data": {
      "text/plain": [
       "np.int64(76296)"
      ]
     },
     "execution_count": 24,
     "metadata": {},
     "output_type": "execute_result"
    }
   ],
   "source": [
    "area = extract_area(binary)\n",
    "area"
   ]
  },
  {
   "cell_type": "code",
   "execution_count": 34,
   "id": "739b3e37",
   "metadata": {},
   "outputs": [],
   "source": [
    "def extract_perimeter(binary_img):\n",
    "    \"\"\"Extrae el perímetro del objeto\"\"\"\n",
    "    contours, _ = cv2.findContours(binary_img, cv2.RETR_EXTERNAL, cv2.CHAIN_APPROX_SIMPLE)\n",
    "\n",
    "    # Tomar el contorno más grande (el pistacho principal)\n",
    "    largest_contour = max(contours, key = cv2.contourArea)\n",
    "\n",
    "    perimeter = cv2.arcLength(largest_contour, True)\n",
    "    return perimeter"
   ]
  },
  {
   "cell_type": "code",
   "execution_count": 26,
   "id": "30426542",
   "metadata": {},
   "outputs": [
    {
     "data": {
      "text/plain": [
       "1191.1757484674454"
      ]
     },
     "execution_count": 26,
     "metadata": {},
     "output_type": "execute_result"
    }
   ],
   "source": [
    "perimeter = extract_area(binary)\n",
    "perimeter"
   ]
  },
  {
   "cell_type": "code",
   "execution_count": 27,
   "id": "af874da9",
   "metadata": {},
   "outputs": [],
   "source": [
    "def extract_axes(binary_img):\n",
    "    \"\"\"Extrae major axis y minor axis usando elipse ajustada\"\"\"\n",
    "    contours, _ = cv2.findContours(binary_img, cv2.RETR_EXTERNAL, cv2.CHAIN_APPROX_SIMPLE)\n",
    "    largest_contour = max(contours, key=cv2.contourArea)\n",
    "    \n",
    "    # Ajustar elipse al contorno\n",
    "    ellipse = cv2.fitEllipse(largest_contour)\n",
    "    \n",
    "    # Extraer ejes (width, height)\n",
    "    (center, (width, height), angle) = ellipse\n",
    "    \n",
    "    major_axis = max(width, height)\n",
    "    minor_axis = min(width, height)\n",
    "    \n",
    "    return major_axis, minor_axis"
   ]
  },
  {
   "cell_type": "code",
   "execution_count": 28,
   "id": "62bb21df",
   "metadata": {},
   "outputs": [
    {
     "name": "stdout",
     "output_type": "stream",
     "text": [
      "MAJOR_AXIS: 428.67\n",
      "MINOR_AXIS: 227.05\n"
     ]
    }
   ],
   "source": [
    "major_axis, minor_axis = extract_axes(binary)\n",
    "print(f\"MAJOR_AXIS: {major_axis:.2f}\")\n",
    "print(f\"MINOR_AXIS: {minor_axis:.2f}\")"
   ]
  },
  {
   "cell_type": "code",
   "execution_count": 29,
   "id": "0be96ec9",
   "metadata": {},
   "outputs": [],
   "source": [
    "def extract_eccentricity(major_axis, minor_axis):\n",
    "    \"\"\"Calcula la excentricidad de la elipse\"\"\"\n",
    "    # Evitar división por cero\n",
    "    if major_axis == 0:\n",
    "        return 0\n",
    "    \n",
    "    eccentricity = np.sqrt(1 - (minor_axis/major_axis)**2)\n",
    "    return eccentricity"
   ]
  },
  {
   "cell_type": "code",
   "execution_count": 30,
   "id": "d39c0383",
   "metadata": {},
   "outputs": [
    {
     "name": "stdout",
     "output_type": "stream",
     "text": [
      "ECCENTRICITY: 0.8482\n"
     ]
    }
   ],
   "source": [
    "eccentricity = extract_eccentricity(major_axis, minor_axis)\n",
    "print(f\"ECCENTRICITY: {eccentricity:.4f}\")"
   ]
  },
  {
   "cell_type": "code",
   "execution_count": 31,
   "id": "63a90c73",
   "metadata": {},
   "outputs": [],
   "source": [
    "def extract_solidity_convex_area(binary_img):\n",
    "    \"\"\"Extrae solidity y convex area\"\"\"\n",
    "    contours, _ = cv2.findContours(binary_img, cv2.RETR_EXTERNAL, cv2.CHAIN_APPROX_SIMPLE)\n",
    "    largest_contour = max(contours, key=cv2.contourArea)\n",
    "    \n",
    "    # Área convexa\n",
    "    hull = cv2.convexHull(largest_contour)\n",
    "    convex_area = cv2.contourArea(hull)\n",
    "    \n",
    "    # Solidez = área_objeto / área_convexa\n",
    "    object_area = cv2.contourArea(largest_contour)\n",
    "    solidity = object_area / convex_area if convex_area > 0 else 0\n",
    "    \n",
    "    return solidity, convex_area"
   ]
  },
  {
   "cell_type": "code",
   "execution_count": 32,
   "id": "3e923394",
   "metadata": {},
   "outputs": [
    {
     "name": "stdout",
     "output_type": "stream",
     "text": [
      "SOLIDITY: 0.9791\n",
      "CONVEX_AREA: 77383\n"
     ]
    }
   ],
   "source": [
    "solidity, convex_area = extract_solidity_convex_area(binary)\n",
    "print(f\"SOLIDITY: {solidity:.4f}\")\n",
    "print(f\"CONVEX_AREA: {convex_area:.0f}\")"
   ]
  },
  {
   "cell_type": "code",
   "execution_count": 35,
   "id": "27089378",
   "metadata": {},
   "outputs": [],
   "source": [
    "def extract_all_features(img_rgb, binary_img):\n",
    "    \"\"\"Extrae todas las 16 características morfológicas y de forma\"\"\"\n",
    "    # Ya implementadas\n",
    "    area = extract_area(binary_img)\n",
    "    perimeter = extract_perimeter(binary_img)\n",
    "    major_axis, minor_axis = extract_axes(binary_img)\n",
    "    eccentricity = extract_eccentricity(major_axis, minor_axis)\n",
    "    solidity, convex_area = extract_solidity_convex_area(binary_img)\n",
    "    \n",
    "    # Calculamos las que faltan\n",
    "    eqdiasq = np.sqrt(4 * area / np.pi)  # Diámetro equivalente\n",
    "    extent = area / (img_rgb.shape[0] * img_rgb.shape[1])  # Proporción del área total\n",
    "    aspect_ratio = major_axis / minor_axis if minor_axis != 0 else 0\n",
    "    roundness = (4 * np.pi * area) / (perimeter**2) if perimeter != 0 else 0\n",
    "    compactness = (perimeter**2) / area if area != 0 else 0\n",
    "    \n",
    "    # Shape factors (fórmulas estándar)\n",
    "    shapefactor_1 = (4 * np.pi * area) / (perimeter**2) if perimeter != 0 else 0\n",
    "    shapefactor_2 = (np.pi * (major_axis/2)**2) / area if area != 0 else 0  \n",
    "    shapefactor_3 = major_axis / area if area != 0 else 0\n",
    "    shapefactor_4 = area / (major_axis**2) if major_axis != 0 else 0\n",
    "    \n",
    "    return [area, perimeter, major_axis, minor_axis, eccentricity, eqdiasq, \n",
    "            solidity, convex_area, extent, aspect_ratio, roundness, compactness,\n",
    "            shapefactor_1, shapefactor_2, shapefactor_3, shapefactor_4]"
   ]
  },
  {
   "cell_type": "code",
   "execution_count": 36,
   "id": "e647ce9f",
   "metadata": {},
   "outputs": [
    {
     "data": {
      "text/plain": [
       "[np.int64(76296),\n",
       " 1191.1757484674454,\n",
       " 428.6725769042969,\n",
       " 227.04904174804688,\n",
       " np.float64(0.8482124877715099),\n",
       " np.float64(311.67785340815277),\n",
       " 0.9791427057622475,\n",
       " 77383.0,\n",
       " np.float64(0.21193333333333333),\n",
       " 1.8880175560484804,\n",
       " np.float64(0.6757093802306188),\n",
       " np.float64(18.597300824905354),\n",
       " np.float64(0.6757093802306188),\n",
       " np.float64(1.891644469642359),\n",
       " np.float64(0.0056185458858170395),\n",
       " np.float64(0.4151933283456475)]"
      ]
     },
     "execution_count": 36,
     "metadata": {},
     "output_type": "execute_result"
    }
   ],
   "source": [
    "extract_all_features(img_rgb, binary)"
   ]
  },
  {
   "cell_type": "code",
   "execution_count": 37,
   "id": "4009a483",
   "metadata": {},
   "outputs": [
    {
     "name": "stdout",
     "output_type": "stream",
     "text": [
      "Procesadas: 100\n",
      "Procesadas: 200\n",
      "Procesadas: 300\n",
      "Procesadas: 400\n",
      "Procesadas: 500\n",
      "Procesadas: 600\n",
      "Procesadas: 700\n",
      "Procesadas: 800\n",
      "Procesadas: 900\n",
      "Procesadas: 1000\n",
      "Procesadas: 1100\n",
      "Procesadas: 1200\n",
      "Procesadas: 1300\n",
      "Procesadas: 1400\n",
      "Procesadas: 1500\n",
      "Procesadas: 1600\n",
      "Procesadas: 1700\n",
      "Procesadas: 1800\n",
      "Procesadas: 1900\n",
      "Procesadas: 2000\n",
      "Procesadas: 2100\n",
      "¡Completado! Total procesadas: 2148\n",
      "Dataset guardado en: pistachio_features.csv\n"
     ]
    }
   ],
   "source": [
    "import csv\n",
    "import os\n",
    "\n",
    "def create_dataset_csv(base_path, output_csv=\"pistachio_features.csv\"):\n",
    "    \"\"\"Crea dataset escribiendo directamente a CSV con csv.writer\"\"\"\n",
    "    \n",
    "    # Nombres de columnas\n",
    "    feature_names = ['AREA', 'PERIMETER', 'MAJOR_AXIS', 'MINOR_AXIS', 'ECCENTRICITY', \n",
    "                    'EQDIASQ', 'SOLIDITY', 'CONVEX_AREA', 'EXTENT', 'ASPECT_RATIO', \n",
    "                    'ROUNDNESS', 'COMPACTNESS', 'SHAPEFACTOR_1', 'SHAPEFACTOR_2', \n",
    "                    'SHAPEFACTOR_3', 'SHAPEFACTOR_4', 'CLASS']\n",
    "    \n",
    "    with open(output_csv, 'w', newline='', encoding='utf-8') as csvfile:\n",
    "        writer = csv.writer(csvfile)\n",
    "        \n",
    "        # Escribir header\n",
    "        writer.writerow(feature_names)\n",
    "        \n",
    "        total_processed = 0\n",
    "        \n",
    "        # Procesar Kirmizi\n",
    "        kirmizi_path = os.path.join(base_path, \"Kirmizi_Pistachio\")\n",
    "        for filename in os.listdir(kirmizi_path):\n",
    "            if filename.endswith(('.jpg', '.png')):\n",
    "                img_path = os.path.join(kirmizi_path, filename)\n",
    "                try:\n",
    "                    img_rgb, img_gray = load_image(img_path)\n",
    "                    binary = segment_pistachio(img_gray)\n",
    "                    features = extract_all_features(img_rgb, binary)\n",
    "                    features.append('Kirmizi_Pistachio')\n",
    "                    \n",
    "                    writer.writerow(features)\n",
    "                    total_processed += 1\n",
    "                    \n",
    "                    if total_processed % 100 == 0:\n",
    "                        print(f\"Procesadas: {total_processed}\")\n",
    "                        \n",
    "                except Exception as e:\n",
    "                    print(f\"Error con {filename}: {e}\")\n",
    "        \n",
    "        # Procesar Siirt\n",
    "        siirt_path = os.path.join(base_path, \"Siirt_Pistachio\") \n",
    "        for filename in os.listdir(siirt_path):\n",
    "            if filename.endswith(('.jpg', '.png')):\n",
    "                img_path = os.path.join(siirt_path, filename)\n",
    "                try:\n",
    "                    img_rgb, img_gray = load_image(img_path)\n",
    "                    binary = segment_pistachio(img_gray)\n",
    "                    features = extract_all_features(img_rgb, binary)\n",
    "                    features.append('Siirt_Pistachio')\n",
    "                    \n",
    "                    writer.writerow(features)\n",
    "                    total_processed += 1\n",
    "                    \n",
    "                    if total_processed % 100 == 0:\n",
    "                        print(f\"Procesadas: {total_processed}\")\n",
    "                        \n",
    "                except Exception as e:\n",
    "                    print(f\"Error con {filename}: {e}\")\n",
    "    \n",
    "    print(f\"¡Completado! Total procesadas: {total_processed}\")\n",
    "    return output_csv\n",
    "\n",
    "\n",
    "csv_file = create_dataset_csv(\"Pistachio_Image_Dataset\")\n",
    "print(f\"Dataset guardado en: {csv_file}\")"
   ]
  },
  {
   "cell_type": "code",
   "execution_count": null,
   "id": "896c0132",
   "metadata": {},
   "outputs": [],
   "source": []
  }
 ],
 "metadata": {
  "kernelspec": {
   "display_name": "pistachio_env",
   "language": "python",
   "name": "python3"
  },
  "language_info": {
   "codemirror_mode": {
    "name": "ipython",
    "version": 3
   },
   "file_extension": ".py",
   "mimetype": "text/x-python",
   "name": "python",
   "nbconvert_exporter": "python",
   "pygments_lexer": "ipython3",
   "version": "3.12.3"
  }
 },
 "nbformat": 4,
 "nbformat_minor": 5
}
